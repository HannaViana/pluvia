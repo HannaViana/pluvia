{
 "cells": [
  {
   "cell_type": "markdown",
   "id": "5a979751-ede5-4111-9e7d-ce96158aa018",
   "metadata": {},
   "source": [
    "# Download Tables from Data Rio Data Lake"
   ]
  },
  {
   "cell_type": "markdown",
   "id": "e86048b7-98bd-4ca4-8fd6-ad3a96c6098b",
   "metadata": {},
   "source": [
    "---"
   ]
  },
  {
   "attachments": {},
   "cell_type": "markdown",
   "id": "e7903460-a210-4912-9fa2-9f6d88d35688",
   "metadata": {},
   "source": [
    "## Tables in the Data Lake\n",
    "\n",
    "- **adm_cor_comando**\n",
    "  - ocorrencias: Data on city event records from Sistema Comando.\n",
    "\n",
    "- **clima_estacao_meteorologica**\n",
    "  - estacoes_alertario: Data on meteorological stations in the Alertario network.\n",
    "  - estacoes_alertario_met: Metadata about meteorological stations in Alertario.\n",
    "  - estacoes_inmet: Data from INMET meteorological stations.\n",
    "  - estacoes_redemet: Data from REDEMET meteorological stations.\n",
    "  - intensidade_vento: Wind intensity measurements from various meteorological stations.\n",
    "  - meteorologia_alertario: Meteorological data from Alertario stations.\n",
    "  - meteorologia_inmet: Meteorological data from INMET stations.\n",
    "  - meteorologia_redemet: Meteorological data from REDEMET stations.\n",
    "\n",
    "- **clima_fluviometro**\n",
    "  - estacoes_inea: Data from INEA fluviometric stations.\n",
    "  - lamina_agua_inea: Water depth measurements from INEA stations.\n",
    "\n",
    "- **clima_pluviometro**\n",
    "  - estacoes_alertario: Data from precipitation monitoring stations in Alertario.\n",
    "  - estacoes_cemaden: Data from Cemaden precipitation stations.\n",
    "  - estacoes_inea: Data from INEA precipitation stations.\n",
    "  - estacoes_websirene: Data from Websirene precipitation stations.\n",
    "  - taxa_precipitacao_alertario: Precipitation rate data from Alertario.\n",
    "  - taxa_precipitacao_alertario_5min: Five-minute interval precipitation rate from Alertario.\n",
    "  - taxa_precipitacao_cemaden: Precipitation rate data from Cemaden stations.\n",
    "  - taxa_precipitacao_inea: Precipitation rate data from INEA stations.\n",
    "  - taxa_precipitacao_websirene: Precipitation rate data from Websirene stations.\n",
    "\n",
    "- **clima_radar**\n",
    "  - taxa_precipitacao_guaratiba: Precipitation rate data from Guaratiba radar.\n",
    "\n",
    "- **dados_mestres**\n",
    "  - bairro: Geographic and administrative data about neighborhoods.\n",
    "\n",
    "- **rionowcast**\n",
    "  - grid_points: Grid-based forecast model data for real-time weather prediction.\n",
    "  - radar: Radar data for real-time weather monitoring.\n",
    "  - rain_gauge: Data from rain gauges used for precipitation measurement.\n"
   ]
  },
  {
   "cell_type": "markdown",
   "id": "2417995b-4c15-4844-b4ca-5f856c56a60b",
   "metadata": {},
   "source": [
    "---"
   ]
  },
  {
   "cell_type": "markdown",
   "id": "039bd9f5-9f89-48ad-a5d3-19dbb2cc1860",
   "metadata": {},
   "source": [
    "## Initial Set Up"
   ]
  },
  {
   "cell_type": "markdown",
   "id": "ebbeb45a-d051-4120-b690-c14bd97bfe5b",
   "metadata": {},
   "source": [
    "### Install Modules"
   ]
  },
  {
   "cell_type": "markdown",
   "id": "5643a681-d6c1-457c-b82a-9ee4d5b835ee",
   "metadata": {},
   "source": [
    "Uncomment to install."
   ]
  },
  {
   "cell_type": "code",
   "execution_count": 7,
   "id": "63991c78-4fba-40f9-b536-bb85ae1ff30a",
   "metadata": {},
   "outputs": [],
   "source": [
    "# !pip install pandas google-cloud-bigquery google-auth"
   ]
  },
  {
   "cell_type": "markdown",
   "id": "baf80553-470b-4a84-b195-c2ffbc1d5f14",
   "metadata": {},
   "source": [
    "### Import Modules"
   ]
  },
  {
   "cell_type": "code",
   "execution_count": 5,
   "id": "f35e9183-1f4f-4f25-87cc-758870b668c2",
   "metadata": {},
   "outputs": [],
   "source": [
    "import os\n",
    "import sys\n",
    "import pandas as pd\n",
    "from google.cloud import bigquery\n",
    "from google.oauth2 import service_account\n",
    "import csv"
   ]
  },
  {
   "cell_type": "markdown",
   "id": "dbf882c4-6711-4f19-829a-d0151420973a",
   "metadata": {},
   "source": [
    "### Define function to download single table"
   ]
  },
  {
   "cell_type": "code",
   "execution_count": 12,
   "id": "900fc80e-07fb-4c04-9258-27e052ff519b",
   "metadata": {},
   "outputs": [],
   "source": [
    "def fetch_bigquery_table(table_path: str, service_account_path: str, limit: int = 1000):\n",
    "    \"\"\"\n",
    "    Fetch data from a BigQuery table.\n",
    "    \n",
    "    Parameters:\n",
    "        table_path (str): Full BigQuery table path in the format `project.dataset.table`.\n",
    "        service_account_path (str): Path to the service account JSON file.\n",
    "        limit (int): Number of rows to fetch. Default is 1000.\n",
    "    \n",
    "    Returns:\n",
    "        pd.DataFrame: A pandas DataFrame containing the query results.\n",
    "    \"\"\"\n",
    "    google_credentials = service_account.Credentials.from_service_account_file(service_account_path)\n",
    "    client = bigquery.Client(credentials=google_credentials)\n",
    "    \n",
    "    query = f'SELECT * FROM `{table_path}`'\n",
    "    if limit is not None:\n",
    "        query += f' LIMIT {limit}'\n",
    "\n",
    "    job = client.query(query)\n",
    "    results = job.result()\n",
    "    \n",
    "    rows = []\n",
    "    total_rows = results.total_rows if results.total_rows else limit\n",
    "    \n",
    "    for i, row in enumerate(results):\n",
    "        rows.append(dict(row))\n",
    "        if (i + 1) % 10000 == 0 or (i + 1) == total_rows:\n",
    "            sys.stdout.write(f'\\rProcessed: {i + 1}/{total_rows}')\n",
    "            sys.stdout.flush()\n",
    "    \n",
    "    print(\"\\nQuery completed.\")\n",
    "    return pd.DataFrame(rows)\n",
    "\n",
    "import sys\n",
    "import csv\n",
    "import pandas as pd\n",
    "from google.cloud import bigquery\n",
    "from google.oauth2 import service_account\n",
    "\n",
    "def fetch_and_save_bigquery_table(table_path: str, service_account_path: str, output_file_path: str, limit: int = 1000, batch_size: int = 10000):\n",
    "    \"\"\"\n",
    "    Fetch data from a BigQuery table and progressively write rows in batches to a CSV file.\n",
    "\n",
    "    Parameters:\n",
    "        table_path (str): Full BigQuery table path in the format `project.dataset.table`.\n",
    "        service_account_path (str): Path to the service account JSON file.\n",
    "        output_file_path (str): Path to the output CSV file where rows will be written.\n",
    "        limit (int): Number of rows to fetch. Default is 1000.\n",
    "        batch_size (int): Number of rows to accumulate before writing to disk. Default is 10,000.\n",
    "\n",
    "    Returns:\n",
    "        pd.DataFrame: A pandas DataFrame containing the query results (loaded from the CSV file).\n",
    "    \"\"\"\n",
    "    # Initialize BigQuery client using the provided service account.\n",
    "    google_credentials = service_account.Credentials.from_service_account_file(service_account_path)\n",
    "    client = bigquery.Client(credentials=google_credentials)\n",
    "    \n",
    "    # Build the query string.\n",
    "    query = f\"SELECT * FROM `{table_path}`\"\n",
    "    if limit is not None:\n",
    "        query += f\" LIMIT {limit}\"\n",
    "\n",
    "    job = client.query(query)\n",
    "    results = job.result()\n",
    "    \n",
    "    total_rows = results.total_rows if results.total_rows else limit\n",
    "\n",
    "    # Open the output CSV file.\n",
    "    with open(output_file_path, mode=\"w\", newline=\"\", encoding=\"utf-8\") as csvfile:\n",
    "        writer = None\n",
    "        batch_rows = []\n",
    "        for i, row in enumerate(results):\n",
    "            row_dict = dict(row)\n",
    "            # Initialize the CSV writer with header based on the first row.\n",
    "            if writer is None:\n",
    "                writer = csv.DictWriter(csvfile, fieldnames=list(row_dict.keys()))\n",
    "                writer.writeheader()\n",
    "            batch_rows.append(row_dict)\n",
    "            \n",
    "            # Write rows in batches.\n",
    "            if len(batch_rows) >= batch_size:\n",
    "                writer.writerows(batch_rows)\n",
    "                batch_rows = []\n",
    "                sys.stdout.write(f'\\rProcessed: {i + 1}/{total_rows}')\n",
    "                sys.stdout.flush()\n",
    "        \n",
    "        # Write any remaining rows.\n",
    "        if batch_rows:\n",
    "            writer.writerows(batch_rows)\n",
    "            sys.stdout.write(f'\\rProcessed: {i + 1}/{total_rows}')\n",
    "            sys.stdout.flush()\n",
    "    \n",
    "    print(\"\\nQuery completed.\")\n",
    "    "
   ]
  },
  {
   "cell_type": "markdown",
   "id": "73b0da24-78fb-428c-9a64-c85e72731426",
   "metadata": {},
   "source": [
    "---"
   ]
  },
  {
   "cell_type": "markdown",
   "id": "a8769149-1258-4a7d-82e7-5ebf79fc30af",
   "metadata": {},
   "source": [
    "## Download Tables One by One"
   ]
  },
  {
   "cell_type": "markdown",
   "id": "d8e91a30-2409-4183-ad00-38429b322662",
   "metadata": {},
   "source": [
    "### Define Bigquery Credentials"
   ]
  },
  {
   "cell_type": "code",
   "execution_count": 7,
   "id": "32a547a3-3129-43bb-81af-a50473e94460",
   "metadata": {},
   "outputs": [],
   "source": [
    "project_id = 'octacity'\n",
    "service_account_path = '../../auth/octacity-3da367fcc38d.json'"
   ]
  },
  {
   "cell_type": "markdown",
   "id": "007a7245-7118-4603-8a6e-35b7f685a904",
   "metadata": {},
   "source": [
    "### Define Output Directory"
   ]
  },
  {
   "cell_type": "code",
   "execution_count": 8,
   "id": "33daa2d5-be15-49fc-b19c-06a2c29cf78c",
   "metadata": {},
   "outputs": [],
   "source": [
    "data_directory = '../../../../data/meteorologia/raw'"
   ]
  },
  {
   "cell_type": "markdown",
   "id": "70cac52d-4ada-416a-9c20-2ae88a47d957",
   "metadata": {},
   "source": [
    "### Create Directories for Tables"
   ]
  },
  {
   "cell_type": "code",
   "execution_count": 9,
   "id": "7c21fa22-2972-4969-a5c5-c3100f4006fb",
   "metadata": {},
   "outputs": [],
   "source": [
    "datasets = [\n",
    "    'adm_cor_comando',\n",
    "    'clima_estacao_meteorologica',\n",
    "    'clima_fluviometro',\n",
    "    'clima_pluviometro',\n",
    "    'clima_radar',\n",
    "    'dados_mestres',\n",
    "    'rionowcast'\n",
    "]\n",
    "\n",
    "for dataset in datasets:\n",
    "    os.makedirs(f'{data_directory}/{dataset}', exist_ok=True)"
   ]
  },
  {
   "cell_type": "markdown",
   "id": "bc0a7169-9dc6-4fa7-adc1-fb45665f1220",
   "metadata": {},
   "source": [
    "### Download Tables"
   ]
  },
  {
   "cell_type": "markdown",
   "id": "c90ae721-2149-478b-84e7-f8ad354d5113",
   "metadata": {},
   "source": [
    "#### adm_cor_comando.ocorrencias"
   ]
  },
  {
   "cell_type": "code",
   "execution_count": 9,
   "id": "00818941-50b3-4917-8f84-55a9af414453",
   "metadata": {},
   "outputs": [
    {
     "name": "stdout",
     "output_type": "stream",
     "text": [
      "Processed: 87620/87620\n",
      "Query completed.\n"
     ]
    }
   ],
   "source": [
    "df0 = fetch_bigquery_table(\"octacity.adm_cor_comando.ocorrencias\", service_account_path, limit=None)\n",
    "df0.to_csv(f\"{data_directory}/adm_cor_comando/ocorrencias.csv\", index=False)"
   ]
  },
  {
   "cell_type": "markdown",
   "id": "235d42c0-c577-436f-aa52-14c6b37ec93c",
   "metadata": {},
   "source": [
    "#### clima_estacao_meteorologica.estacoes_alertario"
   ]
  },
  {
   "cell_type": "code",
   "execution_count": 17,
   "id": "276d30fd-974a-4016-87a9-5a9294dbe6e4",
   "metadata": {},
   "outputs": [
    {
     "name": "stdout",
     "output_type": "stream",
     "text": [
      "Processed: 8/8\n",
      "Query completed.\n"
     ]
    }
   ],
   "source": [
    "df1 = fetch_bigquery_table(\"octacity.clima_estacao_meteorologica.estacoes_alertario\", service_account_path, limit=None)\n",
    "df1.to_csv(f\"{data_directory}/clima_estacao_meteorologica/estacoes_alertario.csv\", index=False)"
   ]
  },
  {
   "cell_type": "markdown",
   "id": "f74f87dc-620d-43ba-b828-525d4e1c3561",
   "metadata": {},
   "source": [
    "#### clima_estacao_meteorologica.estacoes_alertario_met"
   ]
  },
  {
   "cell_type": "code",
   "execution_count": 18,
   "id": "e8c1ffda-550f-43af-bf50-f78fddb5d0d3",
   "metadata": {},
   "outputs": [
    {
     "name": "stdout",
     "output_type": "stream",
     "text": [
      "Processed: 8/8\n",
      "Query completed.\n"
     ]
    }
   ],
   "source": [
    "df2 = fetch_bigquery_table(\"octacity.clima_estacao_meteorologica.estacoes_alertario_met\", service_account_path, limit=None)\n",
    "df2.to_csv(f\"{data_directory}/clima_estacao_meteorologica/estacoes_alertario_met.csv\", index=False)"
   ]
  },
  {
   "cell_type": "markdown",
   "id": "8b6dac8d-dcd6-453b-b549-9dfc06640cf6",
   "metadata": {},
   "source": [
    "#### clima_estacao_meteorologica.estacoes_inmet"
   ]
  },
  {
   "cell_type": "code",
   "execution_count": 19,
   "id": "983e6006-830c-463c-8e22-0e2c10135f19",
   "metadata": {},
   "outputs": [
    {
     "name": "stdout",
     "output_type": "stream",
     "text": [
      "Processed: 9/9\n",
      "Query completed.\n"
     ]
    }
   ],
   "source": [
    "df3 = fetch_bigquery_table(\"octacity.clima_estacao_meteorologica.estacoes_inmet\", service_account_path, limit=None)\n",
    "df3.to_csv(f\"{data_directory}/clima_estacao_meteorologica/estacoes_inmet.csv\", index=False)"
   ]
  },
  {
   "cell_type": "markdown",
   "id": "6bc1f7f2-e3fd-4f7b-ae64-627ddfa9d5b2",
   "metadata": {},
   "source": [
    "#### clima_estacao_meteorologica.estacoes_redemet"
   ]
  },
  {
   "cell_type": "code",
   "execution_count": 20,
   "id": "9e0e0e0c-67ab-4fee-a614-bb383fe403fe",
   "metadata": {},
   "outputs": [
    {
     "name": "stdout",
     "output_type": "stream",
     "text": [
      "Processed: 4/4\n",
      "Query completed.\n"
     ]
    }
   ],
   "source": [
    "df4 = fetch_bigquery_table(\"octacity.clima_estacao_meteorologica.estacoes_redemet\", service_account_path, limit=None)\n",
    "df4.to_csv(f\"{data_directory}/clima_estacao_meteorologica/estacoes_redemet.csv\", index=False)"
   ]
  },
  {
   "cell_type": "markdown",
   "id": "6fe12da7-18d4-4214-a17d-887274172832",
   "metadata": {},
   "source": [
    "#### clima_estacao_meteorologica.intensidade_vento"
   ]
  },
  {
   "cell_type": "code",
   "execution_count": 21,
   "id": "2c00fe00-fde8-4a54-9f29-881a692cc549",
   "metadata": {},
   "outputs": [
    {
     "name": "stdout",
     "output_type": "stream",
     "text": [
      "Processed: 4/4\n",
      "Query completed.\n"
     ]
    }
   ],
   "source": [
    "df5 = fetch_bigquery_table(\"octacity.clima_estacao_meteorologica.intensidade_vento\", service_account_path, limit=None)\n",
    "df5.to_csv(f\"{data_directory}/clima_estacao_meteorologica/intensidade_vento.csv\", index=False)"
   ]
  },
  {
   "cell_type": "markdown",
   "id": "637fcff2-28e0-4637-acc2-1a9108e1f3b5",
   "metadata": {},
   "source": [
    "#### clima_estacao_meteorologica.meteorologia_alertario"
   ]
  },
  {
   "cell_type": "code",
   "execution_count": 22,
   "id": "2e22668f-77de-42a5-b81a-a6c12f2ecab8",
   "metadata": {},
   "outputs": [
    {
     "name": "stdout",
     "output_type": "stream",
     "text": [
      "Processed: 175728/175728\n",
      "Query completed.\n"
     ]
    }
   ],
   "source": [
    "df6 = fetch_bigquery_table(\"octacity.clima_estacao_meteorologica.meteorologia_alertario\", service_account_path, limit=None)\n",
    "df6.to_csv(f\"{data_directory}/clima_estacao_meteorologica/meteorologia_alertario.csv\", index=False)"
   ]
  },
  {
   "cell_type": "markdown",
   "id": "381d2063-b969-4225-90d8-0aa6efc1c528",
   "metadata": {},
   "source": [
    "#### clima_estacao_meteorologica.meteorologia_inmet"
   ]
  },
  {
   "cell_type": "code",
   "execution_count": 23,
   "id": "5e825b07-aae0-4b10-96c8-40b0506f03b0",
   "metadata": {},
   "outputs": [
    {
     "name": "stdout",
     "output_type": "stream",
     "text": [
      "Processed: 1110438/1110438\n",
      "Query completed.\n"
     ]
    }
   ],
   "source": [
    "df7 = fetch_bigquery_table(\"octacity.clima_estacao_meteorologica.meteorologia_inmet\", service_account_path, limit=None)\n",
    "df7.to_csv(f\"{data_directory}/clima_estacao_meteorologica/meteorologia_inmet.csv\", index=False)"
   ]
  },
  {
   "cell_type": "markdown",
   "id": "d9eacc2f-e2c1-47ac-a2d0-2f8c8e034dc4",
   "metadata": {},
   "source": [
    "#### clima_estacao_meteorologica.meteorologia_redemet"
   ]
  },
  {
   "cell_type": "code",
   "execution_count": 24,
   "id": "5d9461a7-b0e8-4608-8e81-0b787f082cca",
   "metadata": {},
   "outputs": [
    {
     "name": "stdout",
     "output_type": "stream",
     "text": [
      "Processed: 49598/49598\n",
      "Query completed.\n"
     ]
    }
   ],
   "source": [
    "df8 = fetch_bigquery_table(\"octacity.clima_estacao_meteorologica.meteorologia_redemet\", service_account_path, limit=None)\n",
    "df8.to_csv(f\"{data_directory}/clima_estacao_meteorologica/meteorologia_redemet.csv\", index=False)"
   ]
  },
  {
   "cell_type": "markdown",
   "id": "5774b12a-31b5-4cbc-b88f-b68fe068b8ad",
   "metadata": {},
   "source": [
    "#### clima_fluviometro.estacoes_inea"
   ]
  },
  {
   "cell_type": "code",
   "execution_count": 25,
   "id": "8184046f-49e2-41ca-8452-44067c47e181",
   "metadata": {},
   "outputs": [
    {
     "name": "stdout",
     "output_type": "stream",
     "text": [
      "Processed: 2/2\n",
      "Query completed.\n"
     ]
    }
   ],
   "source": [
    "df9 = fetch_bigquery_table(\"octacity.clima_fluviometro.estacoes_inea\", service_account_path, limit=None)\n",
    "df9.to_csv(f\"{data_directory}/clima_fluviometro/estacoes_inea.csv\", index=False)"
   ]
  },
  {
   "cell_type": "markdown",
   "id": "5a16ed04-75ab-48b7-a1c5-c1b1d301de49",
   "metadata": {},
   "source": [
    "#### clima_fluviometro.lamina_agua_inea"
   ]
  },
  {
   "cell_type": "code",
   "execution_count": 26,
   "id": "b2a4913d-a36e-49f5-b811-4f1395535b4e",
   "metadata": {},
   "outputs": [
    {
     "name": "stdout",
     "output_type": "stream",
     "text": [
      "Processed: 15049/15049\n",
      "Query completed.\n"
     ]
    }
   ],
   "source": [
    "df10 = fetch_bigquery_table(\"octacity.clima_fluviometro.lamina_agua_inea\", service_account_path, limit=None)\n",
    "df10.to_csv(f\"{data_directory}/clima_fluviometro/lamina_agua_inea.csv\", index=False)"
   ]
  },
  {
   "cell_type": "markdown",
   "id": "be103b99-6413-479c-ac7e-65dc5e5d6127",
   "metadata": {},
   "source": [
    "#### clima_pluviometro.estacoes_alertario"
   ]
  },
  {
   "cell_type": "code",
   "execution_count": 27,
   "id": "2d254b83-862a-4a5e-bd3f-b21e40d2fca0",
   "metadata": {},
   "outputs": [
    {
     "name": "stdout",
     "output_type": "stream",
     "text": [
      "Processed: 37/37\n",
      "Query completed.\n"
     ]
    }
   ],
   "source": [
    "df11 = fetch_bigquery_table(\"octacity.clima_pluviometro.estacoes_alertario\", service_account_path, limit=None)\n",
    "df11.to_csv(f\"{data_directory}/clima_pluviometro/estacoes_alertario.csv\", index=False)"
   ]
  },
  {
   "cell_type": "markdown",
   "id": "bb6b99b6-3a69-45bf-8f20-310f4e9734d1",
   "metadata": {},
   "source": [
    "#### clima_pluviometro.estacoes_cemaden"
   ]
  },
  {
   "cell_type": "code",
   "execution_count": 28,
   "id": "bd7ca904-7563-4e1c-908d-e68f08ff802a",
   "metadata": {},
   "outputs": [
    {
     "name": "stdout",
     "output_type": "stream",
     "text": [
      "Processed: 28/28\n",
      "Query completed.\n"
     ]
    }
   ],
   "source": [
    "df12 = fetch_bigquery_table(\"octacity.clima_pluviometro.estacoes_cemaden\", service_account_path, limit=None)\n",
    "df12.to_csv(f\"{data_directory}/clima_pluviometro/estacoes_cemaden.csv\", index=False)"
   ]
  },
  {
   "cell_type": "markdown",
   "id": "08d51f82-b21d-4deb-986f-fcbe5fd942ec",
   "metadata": {},
   "source": [
    "#### clima_pluviometro.estacoes_inea"
   ]
  },
  {
   "cell_type": "code",
   "execution_count": 29,
   "id": "2965c5f9-be1d-4ee0-844c-273b4848a41b",
   "metadata": {},
   "outputs": [
    {
     "name": "stdout",
     "output_type": "stream",
     "text": [
      "Processed: 6/6\n",
      "Query completed.\n"
     ]
    }
   ],
   "source": [
    "df13 = fetch_bigquery_table(\"octacity.clima_pluviometro.estacoes_inea\", service_account_path, limit=None)\n",
    "df13.to_csv(f\"{data_directory}/clima_pluviometro/estacoes_inea.csv\", index=False)"
   ]
  },
  {
   "cell_type": "markdown",
   "id": "c6c0a49f-2969-4b7d-a8bb-ff1b6a5aade1",
   "metadata": {},
   "source": [
    "#### clima_pluviometro.estacoes_websirene"
   ]
  },
  {
   "cell_type": "code",
   "execution_count": 30,
   "id": "fa4d7446-e9f4-4cb4-a770-3faa20cab271",
   "metadata": {},
   "outputs": [
    {
     "name": "stdout",
     "output_type": "stream",
     "text": [
      "Processed: 83/83\n",
      "Query completed.\n"
     ]
    }
   ],
   "source": [
    "df14 = fetch_bigquery_table(\"octacity.clima_pluviometro.estacoes_websirene\", service_account_path, limit=None)\n",
    "df14.to_csv(f\"{data_directory}/clima_pluviometro/estacoes_websirene.csv\", index=False)"
   ]
  },
  {
   "cell_type": "markdown",
   "id": "698a0215-bab5-482e-95e8-4fcdb8d6015d",
   "metadata": {},
   "source": [
    "#### clima_pluviometro.taxa_precipitacao_alertario"
   ]
  },
  {
   "cell_type": "code",
   "execution_count": 14,
   "id": "d72d2b37-76e0-42f6-9334-cf53ac30be9b",
   "metadata": {},
   "outputs": [
    {
     "name": "stdout",
     "output_type": "stream",
     "text": [
      "Processed: 30670856/30670856\n",
      "Query completed.\n"
     ]
    }
   ],
   "source": [
    "# df15 = fetch_bigquery_table(\"octacity.clima_pluviometro.taxa_precipitacao_alertario\", service_account_path, limit=None)\n",
    "# df15.to_csv(, index=False)\n",
    "fetch_and_save_bigquery_table(\n",
    "    table_path=\"octacity.clima_pluviometro.taxa_precipitacao_alertario\",\n",
    "    service_account_path=service_account_path,\n",
    "    output_file_path=f'{data_directory}/clima_pluviometro/taxa_precipitacao_alertario.csv',\n",
    "    limit=None,\n",
    "    batch_size=100000\n",
    ")"
   ]
  },
  {
   "cell_type": "markdown",
   "id": "348b51cd-2c24-42b6-b10d-4c1423d2522d",
   "metadata": {},
   "source": [
    "#### clima_pluviometro.taxa_precipitacao_alertario_5min"
   ]
  },
  {
   "cell_type": "code",
   "execution_count": null,
   "id": "1c34fa6a-9c72-4398-ac85-6d1d05371801",
   "metadata": {},
   "outputs": [],
   "source": [
    "df16 = fetch_bigquery_table(\"octacity.clima_pluviometro.taxa_precipitacao_alertario_5min\", service_account_path, limit=None)\n",
    "df16.to_csv(f\"{data_directory}/clima_pluviometro/taxa_precipitacao_alertario_5min.csv\", index=False)"
   ]
  },
  {
   "cell_type": "markdown",
   "id": "ce3fd5c2-2dbf-45ae-a99e-9048d5c4a04f",
   "metadata": {},
   "source": [
    "#### clima_pluviometro.taxa_precipitacao_cemaden"
   ]
  },
  {
   "cell_type": "code",
   "execution_count": null,
   "id": "a6c3d44b-502c-4301-b72d-29368b8c987d",
   "metadata": {},
   "outputs": [],
   "source": [
    "df17 = fetch_bigquery_table(\"octacity.clima_pluviometro.taxa_precipitacao_cemaden\", service_account_path, limit=None)\n",
    "df17.to_csv(f\"{data_directory}/clima_pluviometro/taxa_precipitacao_cemaden.csv\", index=False)"
   ]
  },
  {
   "cell_type": "markdown",
   "id": "40cf9bf5-9491-48f1-b2fb-1a4852a1b0a8",
   "metadata": {},
   "source": [
    "#### clima_pluviometro.taxa_precipitacao_inea"
   ]
  },
  {
   "cell_type": "code",
   "execution_count": null,
   "id": "1f3038ff-714d-4094-85a5-dad925ba3070",
   "metadata": {},
   "outputs": [],
   "source": [
    "df18 = fetch_bigquery_table(\"octacity.clima_pluviometro.taxa_precipitacao_inea\", service_account_path, limit=None)\n",
    "df18.to_csv(f\"{data_directory}/clima_pluviometro/taxa_precipitacao_inea.csv\", index=False)"
   ]
  },
  {
   "cell_type": "markdown",
   "id": "eb6ccc4a-b04f-41ea-a45f-28b68ade2411",
   "metadata": {},
   "source": [
    "#### clima_pluviometro.taxa_precipitacao_websirene"
   ]
  },
  {
   "cell_type": "code",
   "execution_count": null,
   "id": "cdd2c6e3-0587-47df-a1d0-a1e4285a842c",
   "metadata": {},
   "outputs": [],
   "source": [
    "df19 = fetch_bigquery_table(\"octacity.clima_pluviometro.taxa_precipitacao_websirene\", service_account_path, limit=None)\n",
    "df19.to_csv(f\"{data_directory}/clima_pluviometro/taxa_precipitacao_websirene.csv\", index=False)"
   ]
  },
  {
   "cell_type": "markdown",
   "id": "ba9c0f89-8cbe-4ada-9805-90cf3aa6edac",
   "metadata": {},
   "source": [
    "#### clima_radar.taxa_precipitacao_guaratiba"
   ]
  },
  {
   "cell_type": "code",
   "execution_count": null,
   "id": "749c1aff-36e7-42cc-b5b0-72ac8b950899",
   "metadata": {},
   "outputs": [],
   "source": [
    "df20 = fetch_bigquery_table(\"octacity.clima_radar.taxa_precipitacao_guaratiba\", service_account_path, limit=None)\n",
    "df20.to_csv(f\"{data_directory}/clima_radar/taxa_precipitacao_guaratiba.csv\", index=False)"
   ]
  },
  {
   "cell_type": "markdown",
   "id": "4f4de11d-9fef-4900-9917-6b853ff8d89a",
   "metadata": {},
   "source": [
    "#### dados_mestres.bairro"
   ]
  },
  {
   "cell_type": "code",
   "execution_count": null,
   "id": "1cc4ff8e-bfbe-4dca-82c3-60b0cde92b21",
   "metadata": {},
   "outputs": [],
   "source": [
    "df21 = fetch_bigquery_table(\"octacity.dados_mestres.bairro\", service_account_path, limit=None)\n",
    "df21.to_csv(f\"{data_directory}/dados_mestres/bairro.csv\", index=False)"
   ]
  },
  {
   "cell_type": "markdown",
   "id": "ce0b625e-f6cb-4d5f-a94f-723c3f09bd49",
   "metadata": {},
   "source": [
    "#### rionowcast.grid_points"
   ]
  },
  {
   "cell_type": "code",
   "execution_count": null,
   "id": "554e6257-2f81-4e1b-bf63-0bdb2326d680",
   "metadata": {},
   "outputs": [],
   "source": [
    "df22 = fetch_bigquery_table(\"octacity.rionowcast.grid_points\", service_account_path, limit=None)\n",
    "df22.to_csv(f\"{data_directory}/rionowcast/grid_points.csv\", index=False)"
   ]
  },
  {
   "cell_type": "markdown",
   "id": "da16bfef-a79d-4e98-8d6b-c96039a8def9",
   "metadata": {},
   "source": [
    "#### rionowcast.radar"
   ]
  },
  {
   "cell_type": "code",
   "execution_count": null,
   "id": "622175a1-87f2-4e4a-a76c-11578605bb2f",
   "metadata": {},
   "outputs": [],
   "source": [
    "df23 = fetch_bigquery_table(\"octacity.rionowcast.radar\", service_account_path, limit=None)\n",
    "df23.to_csv(f\"{data_directory}/rionowcast/radar.csv\", index=False)"
   ]
  },
  {
   "cell_type": "markdown",
   "id": "44ce7d98-abfe-4a16-a106-72b4ccabcb8c",
   "metadata": {},
   "source": [
    "#### rionowcast.rain_gauge"
   ]
  },
  {
   "cell_type": "code",
   "execution_count": null,
   "id": "3f651c00-c9e1-491c-b4e2-53a8e55c70ee",
   "metadata": {},
   "outputs": [],
   "source": [
    "df24 = fetch_bigquery_table(\"octacity.rionowcast.rain_gauge\", service_account_path, limit=None)\n",
    "df24.to_csv(f\"{data_directory}/rionowcast/rain_gauge.csv\", index=False)"
   ]
  },
  {
   "cell_type": "markdown",
   "id": "e32a83a4-41d8-4b91-a4e6-5dd284669ace",
   "metadata": {},
   "source": [
    "---"
   ]
  },
  {
   "cell_type": "markdown",
   "id": "314ed688-ed1b-4a1a-ac9e-74aacc95626d",
   "metadata": {},
   "source": [
    "## Download All Tables at Once"
   ]
  },
  {
   "cell_type": "code",
   "execution_count": null,
   "id": "df0fabab-26b3-4782-8c92-0cc4a913b39c",
   "metadata": {},
   "outputs": [],
   "source": [
    "# Project and credentials\n",
    "project = \"octacity\"\n",
    "service_account_path = \"../auth/octacity-3da367fcc38d.json\"\n",
    "\n",
    "# List of datasets and tables\n",
    "datasets = {\n",
    "    \"adm_cor_comando\": [\"ocorrencias\"],\n",
    "    \"clima_estacao_meteorologica\": [\n",
    "        \"estacoes_alertario\", \"estacoes_alertario_met\", \"estacoes_inmet\", \"estacoes_redemet\", \n",
    "        \"intensidade_vento\", \"meteorologia_alertario\", \"meteorologia_inmet\", \"meteorologia_redemet\"\n",
    "    ],\n",
    "    \"clima_fluviometro\": [\"estacoes_inea\", \"lamina_agua_inea\"],\n",
    "    \"clima_pluviometro\": [\n",
    "        \"estacoes_alertario\", \"estacoes_cemaden\", \"estacoes_inea\", \"estacoes_websirene\",\n",
    "        \"taxa_precipitacao_alertario\", \"taxa_precipitacao_alertario_5min\", \"taxa_precipitacao_cemaden\",\n",
    "        \"taxa_precipitacao_inea\", \"taxa_precipitacao_websirene\"\n",
    "    ],\n",
    "    \"clima_radar\": [\"taxa_precipitacao_guaratiba\"],\n",
    "    \"dados_mestres\": [\"bairro\"],\n",
    "    \"rionowcast\": [\"grid_points\", \"radar\", \"rain_gauge\"]\n",
    "}\n",
    "\n",
    "# Iterate over datasets and tables\n",
    "for dataset, tables in datasets.items():\n",
    "    for table in tables:\n",
    "        table_path = f\"{project}.{dataset}.{table}\"\n",
    "        save_path = f\"{data_directory}/{dataset}/{table}.csv\"\n",
    "        \n",
    "        print(f\"Fetching data from {table_path}\")\n",
    "        df = fetch_bigquery_table(table_path, service_account_path, limit=None)\n",
    "        \n",
    "        print(f\"Saving data to {save_path}\")\n",
    "        df.to_csv(save_path, index=False)\n",
    "\n",
    "print(\"All tables have been Downloaded.\")\n"
   ]
  }
 ],
 "metadata": {
  "kernelspec": {
   "display_name": "Python 3 (ipykernel)",
   "language": "python",
   "name": "python3"
  },
  "language_info": {
   "codemirror_mode": {
    "name": "ipython",
    "version": 3
   },
   "file_extension": ".py",
   "mimetype": "text/x-python",
   "name": "python",
   "nbconvert_exporter": "python",
   "pygments_lexer": "ipython3",
   "version": "3.12.3"
  }
 },
 "nbformat": 4,
 "nbformat_minor": 5
}
