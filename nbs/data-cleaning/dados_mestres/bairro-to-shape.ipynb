{
 "cells": [
  {
   "cell_type": "code",
   "execution_count": 14,
   "id": "715d4e25-7e67-4cad-9848-47ee0f696bb4",
   "metadata": {},
   "outputs": [],
   "source": [
    "input_data_directory = '../../../../../data/meteorologia/raw'\n",
    "output_data_directory = '../../../../../data/meteorologia/clean'\n",
    "\n",
    "dataset = 'dados_mestres'\n",
    "table_name = 'bairro'"
   ]
  },
  {
   "cell_type": "code",
   "execution_count": 17,
   "id": "2998f1c6-e7b5-4797-a06c-f710cef7bd04",
   "metadata": {},
   "outputs": [
    {
     "name": "stderr",
     "output_type": "stream",
     "text": [
      "/tmp/ipykernel_279911/2558477155.py:16: UserWarning: Column names longer than 10 characters will be truncated when saved to ESRI Shapefile.\n",
      "  gdf.to_file(f\"{output_data_directory}/{dataset}/{table_name}.shp\")\n",
      "/home/luisresende/work/envs/jupyter/lib/python3.12/site-packages/pyogrio/raw.py:723: RuntimeWarning: Normalized/laundered field name: 'id_area_planejamento' to 'id_area_pl'\n",
      "  ogr_write(\n",
      "/home/luisresende/work/envs/jupyter/lib/python3.12/site-packages/pyogrio/raw.py:723: RuntimeWarning: Normalized/laundered field name: 'id_regiao_planejamento' to 'id_regiao_'\n",
      "  ogr_write(\n",
      "/home/luisresende/work/envs/jupyter/lib/python3.12/site-packages/pyogrio/raw.py:723: RuntimeWarning: Normalized/laundered field name: 'nome_regiao_planejamento' to 'nome_regia'\n",
      "  ogr_write(\n",
      "/home/luisresende/work/envs/jupyter/lib/python3.12/site-packages/pyogrio/raw.py:723: RuntimeWarning: Normalized/laundered field name: 'id_regiao_administrativa' to 'id_regia_1'\n",
      "  ogr_write(\n",
      "/home/luisresende/work/envs/jupyter/lib/python3.12/site-packages/pyogrio/raw.py:723: RuntimeWarning: Normalized/laundered field name: 'nome_regiao_administrativa' to 'nome_reg_1'\n",
      "  ogr_write(\n",
      "/home/luisresende/work/envs/jupyter/lib/python3.12/site-packages/pyogrio/raw.py:723: RuntimeWarning: Normalized/laundered field name: 'geometry_wkt' to 'geometry_w'\n",
      "  ogr_write(\n",
      "/home/luisresende/work/envs/jupyter/lib/python3.12/site-packages/pyogrio/raw.py:723: RuntimeWarning: Value 'POLYGON ((-43.181151633502964 -22.89543028430424, -43.181187322066535 -22.895421933343506, -43.181319211976046 -22.895376936501126, -43.18159513339742 -22.89528283894661, -43.18385665233788 -22.894511315355047, -43.18612954812871 -22.893732757574334, -43.186752068685244 -22.895192495307914, -43.18700039166821 -22.895737421309743, -43.18717606708901 -22.896204039244466, -43.1872646225002 -22.89639089588073, -43.18779181099876 -22.897368580441274, -43.18769381875763 -22.89741523265336, -43.187251205848895 -22.89753227361073, -43.18754441620524 -22.898315846971695, -43.18758619912986 -22.89861884257254, -43.18754363512147 -22.899049288144067, -43.187533485638674 -22.899138302308607, -43.18749647316827 -22.899334291048454, -43.18744322510974 -22.899461013881712, -43.18736679318305 -22.899608780296226, -43.18729625169638 -22.899745960719866, -43.18703434809704 -22.899620881530982, -43.18663887172575 -22.899425375631463, -43.18642079811814 -22.89944934646959, -43.18440264659155 -22.899792569183308, -43.184337825557755 -22.899924487380282, -43.184267422845544 -22.900051008411314, -43.184055617788474 -22.900467868021956, -43.1834292256647 -22.900184737998412, -43.18352937004523 -22.89998423564104, -43.18339256554227 -22.899929572879454, -43.183104746751646 -22.900462325548112, -43.183039950647874 -22.900599568617096, -43.18279416774081 -22.90055964181511, -43.18239393319026 -22.900501965764867, -43.18222790822577 -22.900489500741397, -43.18213125550902 -22.900435296287466, -43.182040845646604 -22.900344049299758, -43.18189638778576 -22.900007999896715, -43.18161880522399 -22.89934145140857, -43.180781195694635 -22.897283232047606, -43.18131664962891 -22.89708229357997, -43.18153511634647 -22.89702113077574, -43.18179962447994 -22.89694983686677, -43.18137927741508 -22.895952678009646, -43.181257331848265 -22.89568298906121, -43.181151633502964 -22.89543028430424))' of field geometry_w has been truncated to 254 characters.  This warning will not be emitted any more for that layer.\n",
      "  ogr_write(\n",
      "/home/luisresende/work/envs/jupyter/lib/python3.12/site-packages/pyogrio/raw.py:723: RuntimeWarning: Value 104445147.6875 of field area of feature 156 not successfully written. Possibly due to too larger number with respect to field width\n",
      "  ogr_write(\n",
      "/home/luisresende/work/envs/jupyter/lib/python3.12/site-packages/pyogrio/raw.py:723: RuntimeWarning: Value 125044295.352050781 of field area of feature 158 not successfully written. Possibly due to too larger number with respect to field width\n",
      "  ogr_write(\n",
      "/home/luisresende/work/envs/jupyter/lib/python3.12/site-packages/pyogrio/raw.py:723: RuntimeWarning: Value 131786592.9921875 of field area of feature 162 not successfully written. Possibly due to too larger number with respect to field width\n",
      "  ogr_write(\n"
     ]
    }
   ],
   "source": [
    "import os\n",
    "import pandas as pd\n",
    "import geopandas as gpd\n",
    "from shapely import wkt\n",
    "\n",
    "df = pd.read_csv(f\"{input_data_directory}/{dataset}/{table_name}.csv\")\n",
    "\n",
    "# Suppose df is your original DataFrame with a column \"geometry_wkt\"\n",
    "df['geometry'] = df['geometry_wkt'].apply(wkt.loads)\n",
    "\n",
    "# Create a GeoDataFrame; here we assume your CRS is WGS84 (EPSG:4326)\n",
    "gdf = gpd.GeoDataFrame(df, geometry='geometry', crs=\"EPSG:4326\")\n",
    "\n",
    "# Write to shapefile\n",
    "os.makedirs(f'{output_data_directory}/{dataset}', exist_ok=True)\n",
    "gdf.to_file(f\"{output_data_directory}/{dataset}/{table_name}.shp\")"
   ]
  }
 ],
 "metadata": {
  "kernelspec": {
   "display_name": "Python 3 (ipykernel)",
   "language": "python",
   "name": "python3"
  },
  "language_info": {
   "codemirror_mode": {
    "name": "ipython",
    "version": 3
   },
   "file_extension": ".py",
   "mimetype": "text/x-python",
   "name": "python",
   "nbconvert_exporter": "python",
   "pygments_lexer": "ipython3",
   "version": "3.12.3"
  }
 },
 "nbformat": 4,
 "nbformat_minor": 5
}
