{
 "cells": [
  {
   "cell_type": "markdown",
   "id": "67057cd3-5e81-40d6-999f-525c84b5d20f",
   "metadata": {},
   "source": [
    "# Data Cleaning for AlertaRio Table"
   ]
  },
  {
   "cell_type": "markdown",
   "id": "e4516d77-094e-4599-a925-210010c5eab7",
   "metadata": {},
   "source": [
    "### Import Modules"
   ]
  },
  {
   "cell_type": "code",
   "execution_count": 1,
   "id": "5df68369-042a-424b-a155-80a924525f92",
   "metadata": {},
   "outputs": [],
   "source": [
    "import pandas as pd\n",
    "import numpy as np"
   ]
  },
  {
   "cell_type": "markdown",
   "id": "c98bb63a-019a-4b77-b434-fedbd9887b58",
   "metadata": {},
   "source": [
    "### Load Data"
   ]
  },
  {
   "cell_type": "code",
   "execution_count": 2,
   "id": "6a5db6e9-96f8-465a-9a1e-d3e9ab8157a3",
   "metadata": {},
   "outputs": [
    {
     "data": {
      "text/html": [
       "<div>\n",
       "<style scoped>\n",
       "    .dataframe tbody tr th:only-of-type {\n",
       "        vertical-align: middle;\n",
       "    }\n",
       "\n",
       "    .dataframe tbody tr th {\n",
       "        vertical-align: top;\n",
       "    }\n",
       "\n",
       "    .dataframe thead th {\n",
       "        text-align: right;\n",
       "    }\n",
       "</style>\n",
       "<table border=\"1\" class=\"dataframe\">\n",
       "  <thead>\n",
       "    <tr style=\"text-align: right;\">\n",
       "      <th></th>\n",
       "      <th>Unnamed: 0</th>\n",
       "      <th>primary_key</th>\n",
       "      <th>id_estacao</th>\n",
       "      <th>acumulado_chuva_15_min</th>\n",
       "      <th>acumulado_chuva_1_h</th>\n",
       "      <th>acumulado_chuva_4_h</th>\n",
       "      <th>acumulado_chuva_24_h</th>\n",
       "      <th>acumulado_chuva_96_h</th>\n",
       "      <th>horario</th>\n",
       "      <th>data_particao</th>\n",
       "    </tr>\n",
       "  </thead>\n",
       "  <tbody>\n",
       "    <tr>\n",
       "      <th>0</th>\n",
       "      <td>0</td>\n",
       "      <td>1_2004-06-30 21:48:20</td>\n",
       "      <td>1</td>\n",
       "      <td>0.0</td>\n",
       "      <td>0.0</td>\n",
       "      <td>0.0</td>\n",
       "      <td>0.0</td>\n",
       "      <td>0.0</td>\n",
       "      <td>21:48:20</td>\n",
       "      <td>2004-06-30</td>\n",
       "    </tr>\n",
       "    <tr>\n",
       "      <th>1</th>\n",
       "      <td>1</td>\n",
       "      <td>1_2005-05-30 16:18:20</td>\n",
       "      <td>1</td>\n",
       "      <td>0.0</td>\n",
       "      <td>0.0</td>\n",
       "      <td>0.0</td>\n",
       "      <td>0.0</td>\n",
       "      <td>0.0</td>\n",
       "      <td>16:18:20</td>\n",
       "      <td>2005-05-30</td>\n",
       "    </tr>\n",
       "    <tr>\n",
       "      <th>2</th>\n",
       "      <td>2</td>\n",
       "      <td>1_2009-01-29 07:18:20</td>\n",
       "      <td>1</td>\n",
       "      <td>0.0</td>\n",
       "      <td>0.0</td>\n",
       "      <td>0.0</td>\n",
       "      <td>2.8</td>\n",
       "      <td>7.6</td>\n",
       "      <td>07:18:20</td>\n",
       "      <td>2009-01-29</td>\n",
       "    </tr>\n",
       "    <tr>\n",
       "      <th>3</th>\n",
       "      <td>3</td>\n",
       "      <td>1_2012-09-26 12:00:00</td>\n",
       "      <td>1</td>\n",
       "      <td>0.4</td>\n",
       "      <td>1.0</td>\n",
       "      <td>7.8</td>\n",
       "      <td>79.4</td>\n",
       "      <td>79.4</td>\n",
       "      <td>12:00:00</td>\n",
       "      <td>2012-09-26</td>\n",
       "    </tr>\n",
       "    <tr>\n",
       "      <th>4</th>\n",
       "      <td>4</td>\n",
       "      <td>1_1999-03-29 07:48:20</td>\n",
       "      <td>1</td>\n",
       "      <td>0.0</td>\n",
       "      <td>0.0</td>\n",
       "      <td>0.0</td>\n",
       "      <td>0.0</td>\n",
       "      <td>0.0</td>\n",
       "      <td>07:48:20</td>\n",
       "      <td>1999-03-29</td>\n",
       "    </tr>\n",
       "  </tbody>\n",
       "</table>\n",
       "</div>"
      ],
      "text/plain": [
       "   Unnamed: 0            primary_key  id_estacao  acumulado_chuva_15_min  \\\n",
       "0           0  1_2004-06-30 21:48:20           1                     0.0   \n",
       "1           1  1_2005-05-30 16:18:20           1                     0.0   \n",
       "2           2  1_2009-01-29 07:18:20           1                     0.0   \n",
       "3           3  1_2012-09-26 12:00:00           1                     0.4   \n",
       "4           4  1_1999-03-29 07:48:20           1                     0.0   \n",
       "\n",
       "   acumulado_chuva_1_h  acumulado_chuva_4_h  acumulado_chuva_24_h  \\\n",
       "0                  0.0                  0.0                   0.0   \n",
       "1                  0.0                  0.0                   0.0   \n",
       "2                  0.0                  0.0                   2.8   \n",
       "3                  1.0                  7.8                  79.4   \n",
       "4                  0.0                  0.0                   0.0   \n",
       "\n",
       "   acumulado_chuva_96_h   horario data_particao  \n",
       "0                   0.0  21:48:20    2004-06-30  \n",
       "1                   0.0  16:18:20    2005-05-30  \n",
       "2                   7.6  07:18:20    2009-01-29  \n",
       "3                  79.4  12:00:00    2012-09-26  \n",
       "4                   0.0  07:48:20    1999-03-29  "
      ]
     },
     "metadata": {},
     "output_type": "display_data"
    }
   ],
   "source": [
    "df = pd.read_csv('../../../../../data/raw/taxa_precipitacao_alertario-full.csv')\n",
    "\n",
    "display(df.head())"
   ]
  },
  {
   "cell_type": "markdown",
   "id": "44207d94-dba1-44b3-bc72-1ed4ba47485b",
   "metadata": {},
   "source": [
    "### Drop columns"
   ]
  },
  {
   "cell_type": "code",
   "execution_count": 3,
   "id": "6df2ac4d-2fd5-4519-8db6-a860e0e3d649",
   "metadata": {},
   "outputs": [],
   "source": [
    "if 'Unnamed: 0' in df:\n",
    "    df.drop('Unnamed: 0', axis=1, inplace=True)"
   ]
  },
  {
   "cell_type": "markdown",
   "id": "0f9b343c-6fd3-44fd-af24-8d6b4c7acc4c",
   "metadata": {},
   "source": [
    "### Extract fields from primary_key by splitting it"
   ]
  },
  {
   "cell_type": "code",
   "execution_count": 4,
   "id": "f80ab9bb-7bad-4174-bd47-c9352b0d54ef",
   "metadata": {},
   "outputs": [],
   "source": [
    "df[[\"id_estacao_extracted\", \"datetime_extracted\"]] = df[\"primary_key\"].str.split(\"_\", n=1, expand=True)"
   ]
  },
  {
   "cell_type": "markdown",
   "id": "e27f93fe-929a-4826-bc92-1918bd5c680b",
   "metadata": {},
   "source": [
    "### Convert data types"
   ]
  },
  {
   "cell_type": "markdown",
   "id": "431a6880-4dcf-4e7f-ba6e-02c3b77f3993",
   "metadata": {},
   "source": [
    "#### Convert extracted datetime into datetime format"
   ]
  },
  {
   "cell_type": "code",
   "execution_count": 5,
   "id": "6fa2f7a7-4316-4f1f-8b1b-d889c2bbfbcf",
   "metadata": {},
   "outputs": [],
   "source": [
    "df[\"datetime_extracted\"] = pd.to_datetime(df[\"datetime_extracted\"], format='ISO8601')"
   ]
  },
  {
   "cell_type": "markdown",
   "id": "9c43a8f8-bef8-4965-8529-b7339221be5a",
   "metadata": {},
   "source": [
    "#### Convert datetime columns "
   ]
  },
  {
   "cell_type": "code",
   "execution_count": 6,
   "id": "5e8ced80-1a84-4c1c-83bd-bafd945c13e7",
   "metadata": {},
   "outputs": [],
   "source": [
    "df[\"data_particao\"] = pd.to_datetime(df[\"data_particao\"])\n",
    "df[\"horario\"] = pd.to_timedelta(df[\"horario\"])"
   ]
  },
  {
   "cell_type": "markdown",
   "id": "f41ad699-e4a0-4a1c-b2fb-049f15a1f923",
   "metadata": {},
   "source": [
    "#### Convert numeric columns"
   ]
  },
  {
   "cell_type": "code",
   "execution_count": 7,
   "id": "cad19cfe-c5d4-412c-b783-74cdd9610023",
   "metadata": {},
   "outputs": [],
   "source": [
    "df[\"id_estacao_extracted\"] = pd.to_numeric(df[\"id_estacao_extracted\"])\n",
    "df[\"id_estacao\"] = pd.to_numeric(df[\"id_estacao\"])\n",
    "\n",
    "num_cols = [\n",
    "    'acumulado_chuva_15_min',\n",
    "    'acumulado_chuva_1_h',\n",
    "    'acumulado_chuva_4_h',\n",
    "    'acumulado_chuva_24_h',\n",
    "    'acumulado_chuva_96_h'\n",
    "]\n",
    "\n",
    "df[num_cols] = df[num_cols].apply(pd.to_numeric)"
   ]
  },
  {
   "cell_type": "markdown",
   "id": "16c9c4b7-138f-4dbb-b28d-efed9abe2718",
   "metadata": {},
   "source": [
    "### Handle missing values"
   ]
  },
  {
   "cell_type": "markdown",
   "id": "f99f1dcb-0bfa-4cfd-91b4-881e022c0f60",
   "metadata": {},
   "source": [
    "#### Percentage of Missing Values per column"
   ]
  },
  {
   "cell_type": "code",
   "execution_count": 8,
   "id": "496b92e3-b82c-4c0a-a4c7-59f411be9120",
   "metadata": {},
   "outputs": [
    {
     "name": "stdout",
     "output_type": "stream",
     "text": [
      "Percentual missing in each row:\n"
     ]
    },
    {
     "data": {
      "text/html": [
       "<div>\n",
       "<style scoped>\n",
       "    .dataframe tbody tr th:only-of-type {\n",
       "        vertical-align: middle;\n",
       "    }\n",
       "\n",
       "    .dataframe tbody tr th {\n",
       "        vertical-align: top;\n",
       "    }\n",
       "\n",
       "    .dataframe thead th {\n",
       "        text-align: right;\n",
       "    }\n",
       "</style>\n",
       "<table border=\"1\" class=\"dataframe\">\n",
       "  <thead>\n",
       "    <tr style=\"text-align: right;\">\n",
       "      <th></th>\n",
       "      <th>Missing (%)</th>\n",
       "    </tr>\n",
       "  </thead>\n",
       "  <tbody>\n",
       "    <tr>\n",
       "      <th>primary_key</th>\n",
       "      <td>0.00</td>\n",
       "    </tr>\n",
       "    <tr>\n",
       "      <th>id_estacao</th>\n",
       "      <td>0.00</td>\n",
       "    </tr>\n",
       "    <tr>\n",
       "      <th>acumulado_chuva_15_min</th>\n",
       "      <td>0.38</td>\n",
       "    </tr>\n",
       "    <tr>\n",
       "      <th>acumulado_chuva_1_h</th>\n",
       "      <td>0.39</td>\n",
       "    </tr>\n",
       "    <tr>\n",
       "      <th>acumulado_chuva_4_h</th>\n",
       "      <td>0.43</td>\n",
       "    </tr>\n",
       "    <tr>\n",
       "      <th>acumulado_chuva_24_h</th>\n",
       "      <td>0.49</td>\n",
       "    </tr>\n",
       "    <tr>\n",
       "      <th>acumulado_chuva_96_h</th>\n",
       "      <td>0.62</td>\n",
       "    </tr>\n",
       "    <tr>\n",
       "      <th>horario</th>\n",
       "      <td>0.02</td>\n",
       "    </tr>\n",
       "    <tr>\n",
       "      <th>data_particao</th>\n",
       "      <td>0.00</td>\n",
       "    </tr>\n",
       "    <tr>\n",
       "      <th>id_estacao_extracted</th>\n",
       "      <td>0.00</td>\n",
       "    </tr>\n",
       "    <tr>\n",
       "      <th>datetime_extracted</th>\n",
       "      <td>0.00</td>\n",
       "    </tr>\n",
       "  </tbody>\n",
       "</table>\n",
       "</div>"
      ],
      "text/plain": [
       "                        Missing (%)\n",
       "primary_key                    0.00\n",
       "id_estacao                     0.00\n",
       "acumulado_chuva_15_min         0.38\n",
       "acumulado_chuva_1_h            0.39\n",
       "acumulado_chuva_4_h            0.43\n",
       "acumulado_chuva_24_h           0.49\n",
       "acumulado_chuva_96_h           0.62\n",
       "horario                        0.02\n",
       "data_particao                  0.00\n",
       "id_estacao_extracted           0.00\n",
       "datetime_extracted             0.00"
      ]
     },
     "metadata": {},
     "output_type": "display_data"
    }
   ],
   "source": [
    "print('Percentual missing in each row:')\n",
    "display(df.isna().mean().round(4).to_frame('Missing (%)') * 100)"
   ]
  },
  {
   "cell_type": "markdown",
   "id": "bfaf08e5-f894-4ff4-b767-bcef742f52b6",
   "metadata": {},
   "source": [
    "#### Drop rows missing `primary_key`"
   ]
  },
  {
   "cell_type": "code",
   "execution_count": 9,
   "id": "fd5d6f95-39f9-4adf-8f23-a4cc2551c21d",
   "metadata": {},
   "outputs": [
    {
     "name": "stdout",
     "output_type": "stream",
     "text": [
      "Dropping missing primary_key: 0 rows ...\n"
     ]
    }
   ],
   "source": [
    "print(f'Dropping missing primary_key: {df[\"rimary_key\"].isna().sum()} rows ...')\n",
    "df.dropna(subset=[\"primary_key\"], inplace=True)  # Remove rows with missing primary_key"
   ]
  },
  {
   "cell_type": "markdown",
   "id": "9a612961-9df4-404d-b28f-c138c3ce5354",
   "metadata": {},
   "source": [
    "#### Fill missing values in `horario` column with pd.to_timedelta(0.0)"
   ]
  },
  {
   "cell_type": "code",
   "execution_count": 10,
   "id": "dc545545-8e65-4304-930b-bdce3133cdb8",
   "metadata": {},
   "outputs": [],
   "source": [
    "df['horario'] = df['horario'].fillna(pd.to_timedelta(0.0))"
   ]
  },
  {
   "cell_type": "markdown",
   "id": "762d7970-31ce-450d-aa47-84a8b20fe24f",
   "metadata": {},
   "source": [
    "#### Fill missing values in numeric columns with 0.0"
   ]
  },
  {
   "cell_type": "code",
   "execution_count": 11,
   "id": "35b2a8bd-4462-4fcd-93bd-226e06b28815",
   "metadata": {},
   "outputs": [],
   "source": [
    "num_cols = [\n",
    "    'acumulado_chuva_15_min',\n",
    "    'acumulado_chuva_1_h',\n",
    "    'acumulado_chuva_4_h',\n",
    "    'acumulado_chuva_24_h',\n",
    "    'acumulado_chuva_96_h'\n",
    "]\n",
    "\n",
    "df[num_cols] = df[num_cols].fillna(0.0)  # Fill missing numerical values with 0"
   ]
  },
  {
   "cell_type": "markdown",
   "id": "f60ab4ad-7d7c-4691-a363-93e5349f5ce0",
   "metadata": {},
   "source": [
    "### Validate that extracted components match original columns"
   ]
  },
  {
   "cell_type": "code",
   "execution_count": 12,
   "id": "22f0114c-4679-44a5-96d8-59eba1136f26",
   "metadata": {},
   "outputs": [
    {
     "name": "stdout",
     "output_type": "stream",
     "text": [
      "INCONSISTENT ROWS:\n",
      "\n"
     ]
    },
    {
     "data": {
      "text/html": [
       "<div>\n",
       "<style scoped>\n",
       "    .dataframe tbody tr th:only-of-type {\n",
       "        vertical-align: middle;\n",
       "    }\n",
       "\n",
       "    .dataframe tbody tr th {\n",
       "        vertical-align: top;\n",
       "    }\n",
       "\n",
       "    .dataframe thead th {\n",
       "        text-align: right;\n",
       "    }\n",
       "</style>\n",
       "<table border=\"1\" class=\"dataframe\">\n",
       "  <thead>\n",
       "    <tr style=\"text-align: right;\">\n",
       "      <th></th>\n",
       "      <th>primary_key</th>\n",
       "      <th>id_estacao</th>\n",
       "      <th>acumulado_chuva_15_min</th>\n",
       "      <th>acumulado_chuva_1_h</th>\n",
       "      <th>acumulado_chuva_4_h</th>\n",
       "      <th>acumulado_chuva_24_h</th>\n",
       "      <th>acumulado_chuva_96_h</th>\n",
       "      <th>horario</th>\n",
       "      <th>data_particao</th>\n",
       "      <th>id_estacao_extracted</th>\n",
       "      <th>datetime_extracted</th>\n",
       "      <th>datetime_combined</th>\n",
       "      <th>is_consistent</th>\n",
       "    </tr>\n",
       "  </thead>\n",
       "  <tbody>\n",
       "  </tbody>\n",
       "</table>\n",
       "</div>"
      ],
      "text/plain": [
       "Empty DataFrame\n",
       "Columns: [primary_key, id_estacao, acumulado_chuva_15_min, acumulado_chuva_1_h, acumulado_chuva_4_h, acumulado_chuva_24_h, acumulado_chuva_96_h, horario, data_particao, id_estacao_extracted, datetime_extracted, datetime_combined, is_consistent]\n",
       "Index: []"
      ]
     },
     "metadata": {},
     "output_type": "display_data"
    }
   ],
   "source": [
    "df[\"datetime_combined\"] = df[\"data_particao\"] + df[\"horario\"].fillna(pd.to_timedelta(0))\n",
    "df[\"is_consistent\"] = (df[\"id_estacao\"] == df[\"id_estacao_extracted\"]) & (df[\"datetime_extracted\"] == df[\"datetime_combined\"])\n",
    "\n",
    "if (~df['is_consistent']).sum():\n",
    "    print('Inconsistent rows:\\n')\n",
    "    display(df[~df[\"is_consistent\"]])\n",
    "else:\n",
    "    print('No inconsistent rows found.')"
   ]
  },
  {
   "cell_type": "markdown",
   "id": "56acf6f1-59f1-441e-9c7c-a99a08eb65ba",
   "metadata": {},
   "source": [
    "### Drop inconsistent rows"
   ]
  },
  {
   "cell_type": "code",
   "execution_count": 13,
   "id": "9589a1b1-6412-4755-9442-36a97c95a735",
   "metadata": {},
   "outputs": [],
   "source": [
    "if (~df['is_consistent']).sum():\n",
    "    df = df[df[\"is_consistent\"]]"
   ]
  },
  {
   "cell_type": "markdown",
   "id": "6513db67-9f65-48ff-af49-3786b00fdd3e",
   "metadata": {},
   "source": [
    "### Drop Temporary columns"
   ]
  },
  {
   "cell_type": "code",
   "execution_count": 14,
   "id": "48ba93fa-60da-4220-9b16-80ebec26d29b",
   "metadata": {},
   "outputs": [],
   "source": [
    "df = df.drop(columns=[\"id_estacao_extracted\", \"datetime_combined\", \"is_consistent\"])"
   ]
  },
  {
   "cell_type": "markdown",
   "id": "d281c060-bed0-40b2-a37d-80c5e083de1d",
   "metadata": {},
   "source": [
    "### Rename timestamp column"
   ]
  },
  {
   "cell_type": "code",
   "execution_count": 15,
   "id": "d8387c88-87d6-4ce3-9037-4cbf5b082269",
   "metadata": {},
   "outputs": [],
   "source": [
    "df.rename(columns={'datetime_extracted': 'timestamp'}, inplace=True)"
   ]
  },
  {
   "cell_type": "markdown",
   "id": "4fe2de35-02b5-4a57-9f03-3c1d6b2b1bbd",
   "metadata": {},
   "source": [
    "### Remove duplicates"
   ]
  },
  {
   "cell_type": "code",
   "execution_count": 16,
   "id": "b1b30255-c11a-4f2c-8e8e-7caabc347af1",
   "metadata": {},
   "outputs": [
    {
     "name": "stdout",
     "output_type": "stream",
     "text": [
      "Duplicates of primary_key: 33\n"
     ]
    }
   ],
   "source": [
    "print(f'Duplicates of primary_key: {(df[\"primary_key\"].value_counts() != 1).sum()}')\n",
    "\n",
    "df.drop_duplicates(subset=[\"primary_key\"], inplace=True)"
   ]
  },
  {
   "cell_type": "markdown",
   "id": "7fad462c-dec7-4906-8d38-dd0223d94390",
   "metadata": {},
   "source": [
    "### Sort data"
   ]
  },
  {
   "cell_type": "code",
   "execution_count": 17,
   "id": "1e0d7d37-c837-4afa-a6a7-5e72a2f9849a",
   "metadata": {},
   "outputs": [],
   "source": [
    "df.sort_values('timestamp', inplace=True)"
   ]
  },
  {
   "cell_type": "markdown",
   "id": "1fae4560-9446-420c-a807-ee78ff5664c5",
   "metadata": {},
   "source": [
    "### Save cleaned data"
   ]
  },
  {
   "cell_type": "code",
   "execution_count": 18,
   "id": "a16e57a8-c6b2-4831-b5c3-61025e64f41a",
   "metadata": {},
   "outputs": [
    {
     "name": "stdout",
     "output_type": "stream",
     "text": [
      "Data cleaning complete. Cleaned dataset saved.\n"
     ]
    },
    {
     "data": {
      "text/html": [
       "<div>\n",
       "<style scoped>\n",
       "    .dataframe tbody tr th:only-of-type {\n",
       "        vertical-align: middle;\n",
       "    }\n",
       "\n",
       "    .dataframe tbody tr th {\n",
       "        vertical-align: top;\n",
       "    }\n",
       "\n",
       "    .dataframe thead th {\n",
       "        text-align: right;\n",
       "    }\n",
       "</style>\n",
       "<table border=\"1\" class=\"dataframe\">\n",
       "  <thead>\n",
       "    <tr style=\"text-align: right;\">\n",
       "      <th></th>\n",
       "      <th>primary_key</th>\n",
       "      <th>id_estacao</th>\n",
       "      <th>acumulado_chuva_15_min</th>\n",
       "      <th>acumulado_chuva_1_h</th>\n",
       "      <th>acumulado_chuva_4_h</th>\n",
       "      <th>acumulado_chuva_24_h</th>\n",
       "      <th>acumulado_chuva_96_h</th>\n",
       "      <th>horario</th>\n",
       "      <th>data_particao</th>\n",
       "      <th>timestamp</th>\n",
       "    </tr>\n",
       "  </thead>\n",
       "  <tbody>\n",
       "    <tr>\n",
       "      <th>18345354</th>\n",
       "      <td>5_1997-01-01 01:00:40</td>\n",
       "      <td>5</td>\n",
       "      <td>0.0</td>\n",
       "      <td>0.0</td>\n",
       "      <td>0.0</td>\n",
       "      <td>0.0</td>\n",
       "      <td>0.0</td>\n",
       "      <td>0 days 01:00:40</td>\n",
       "      <td>1997-01-01</td>\n",
       "      <td>1997-01-01 01:00:40</td>\n",
       "    </tr>\n",
       "    <tr>\n",
       "      <th>3121428</th>\n",
       "      <td>13_1997-01-01 01:01:00</td>\n",
       "      <td>13</td>\n",
       "      <td>0.0</td>\n",
       "      <td>0.0</td>\n",
       "      <td>0.0</td>\n",
       "      <td>0.0</td>\n",
       "      <td>0.0</td>\n",
       "      <td>0 days 01:01:00</td>\n",
       "      <td>1997-01-01</td>\n",
       "      <td>1997-01-01 01:01:00</td>\n",
       "    </tr>\n",
       "    <tr>\n",
       "      <th>9667966</th>\n",
       "      <td>15_1997-01-01 01:01:20</td>\n",
       "      <td>15</td>\n",
       "      <td>0.0</td>\n",
       "      <td>0.0</td>\n",
       "      <td>0.0</td>\n",
       "      <td>0.0</td>\n",
       "      <td>0.0</td>\n",
       "      <td>0 days 01:01:20</td>\n",
       "      <td>1997-01-01</td>\n",
       "      <td>1997-01-01 01:01:20</td>\n",
       "    </tr>\n",
       "    <tr>\n",
       "      <th>28719005</th>\n",
       "      <td>7_1997-01-01 01:01:40</td>\n",
       "      <td>7</td>\n",
       "      <td>0.0</td>\n",
       "      <td>0.0</td>\n",
       "      <td>0.0</td>\n",
       "      <td>0.0</td>\n",
       "      <td>0.0</td>\n",
       "      <td>0 days 01:01:40</td>\n",
       "      <td>1997-01-01</td>\n",
       "      <td>1997-01-01 01:01:40</td>\n",
       "    </tr>\n",
       "    <tr>\n",
       "      <th>15135364</th>\n",
       "      <td>23_1997-01-01 01:02:00</td>\n",
       "      <td>23</td>\n",
       "      <td>0.0</td>\n",
       "      <td>0.0</td>\n",
       "      <td>0.0</td>\n",
       "      <td>0.0</td>\n",
       "      <td>0.0</td>\n",
       "      <td>0 days 01:02:00</td>\n",
       "      <td>1997-01-01</td>\n",
       "      <td>1997-01-01 01:02:00</td>\n",
       "    </tr>\n",
       "  </tbody>\n",
       "</table>\n",
       "</div>"
      ],
      "text/plain": [
       "                     primary_key  id_estacao  acumulado_chuva_15_min  \\\n",
       "18345354   5_1997-01-01 01:00:40           5                     0.0   \n",
       "3121428   13_1997-01-01 01:01:00          13                     0.0   \n",
       "9667966   15_1997-01-01 01:01:20          15                     0.0   \n",
       "28719005   7_1997-01-01 01:01:40           7                     0.0   \n",
       "15135364  23_1997-01-01 01:02:00          23                     0.0   \n",
       "\n",
       "          acumulado_chuva_1_h  acumulado_chuva_4_h  acumulado_chuva_24_h  \\\n",
       "18345354                  0.0                  0.0                   0.0   \n",
       "3121428                   0.0                  0.0                   0.0   \n",
       "9667966                   0.0                  0.0                   0.0   \n",
       "28719005                  0.0                  0.0                   0.0   \n",
       "15135364                  0.0                  0.0                   0.0   \n",
       "\n",
       "          acumulado_chuva_96_h         horario data_particao  \\\n",
       "18345354                   0.0 0 days 01:00:40    1997-01-01   \n",
       "3121428                    0.0 0 days 01:01:00    1997-01-01   \n",
       "9667966                    0.0 0 days 01:01:20    1997-01-01   \n",
       "28719005                   0.0 0 days 01:01:40    1997-01-01   \n",
       "15135364                   0.0 0 days 01:02:00    1997-01-01   \n",
       "\n",
       "                   timestamp  \n",
       "18345354 1997-01-01 01:00:40  \n",
       "3121428  1997-01-01 01:01:00  \n",
       "9667966  1997-01-01 01:01:20  \n",
       "28719005 1997-01-01 01:01:40  \n",
       "15135364 1997-01-01 01:02:00  "
      ]
     },
     "metadata": {},
     "output_type": "display_data"
    }
   ],
   "source": [
    "!mkdir -p ../data/clean\n",
    "df.to_csv(\"../../../../../data/clean/alertario.csv\", index=False)  # Optimized storage format\n",
    "\n",
    "print(\"Data cleaning complete. Cleaned dataset saved.\")\n",
    "\n",
    "display(df.head())"
   ]
  }
 ],
 "metadata": {
  "kernelspec": {
   "display_name": "Python 3 (ipykernel)",
   "language": "python",
   "name": "python3"
  },
  "language_info": {
   "codemirror_mode": {
    "name": "ipython",
    "version": 3
   },
   "file_extension": ".py",
   "mimetype": "text/x-python",
   "name": "python",
   "nbconvert_exporter": "python",
   "pygments_lexer": "ipython3",
   "version": "3.12.3"
  }
 },
 "nbformat": 4,
 "nbformat_minor": 5
}
